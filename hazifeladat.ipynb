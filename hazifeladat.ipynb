{
    "metadata": {
        "kernelspec": {
            "name": "SQL",
            "display_name": "SQL",
            "language": "sql"
        },
        "language_info": {
            "name": "sql",
            "version": ""
        },
        "extensions": {
            "azuredatastudio": {
                "version": 1,
                "views": []
            }
        }
    },
    "nbformat_minor": 2,
    "nbformat": 4,
    "cells": [
        {
            "cell_type": "markdown",
            "source": [
                "Null elemzáse"
            ],
            "metadata": {
                "azdata_cell_guid": "77f2d5b3-38e9-41cc-893f-f5afd02b97ef"
            },
            "attachments": {}
        },
        {
            "cell_type": "code",
            "source": [
                "SELECT \r\n",
                "    COUNT(CASE WHEN titulus IS NULL THEN 1 END) AS titulus_null_szam,\r\n",
                "    ROUND(COUNT(CASE WHEN titulus IS NULL THEN 1 END) / (COUNT(*) * 1.0) * 100, 2) AS titulus_null_szazalek\r\n",
                "FROM Oktatok;"
            ],
            "metadata": {
                "azdata_cell_guid": "bd3cef1a-4e6e-4ece-9dc3-aaa9d2b5d66d",
                "language": "sql",
                "tags": []
            },
            "outputs": [
                {
                    "output_type": "display_data",
                    "data": {
                        "text/html": "Warning: Null value is eliminated by an aggregate or other SET operation."
                    },
                    "metadata": {}
                },
                {
                    "output_type": "display_data",
                    "data": {
                        "text/html": "(1 row affected)"
                    },
                    "metadata": {}
                },
                {
                    "output_type": "display_data",
                    "data": {
                        "text/html": "Total execution time: 00:00:00.105"
                    },
                    "metadata": {}
                },
                {
                    "output_type": "execute_result",
                    "metadata": {},
                    "execution_count": 1,
                    "data": {
                        "application/vnd.dataresource+json": {
                            "schema": {
                                "fields": [
                                    {
                                        "name": "titulus_null_szam"
                                    },
                                    {
                                        "name": "titulus_null_szazalek"
                                    }
                                ]
                            },
                            "data": [
                                {
                                    "titulus_null_szam": "15",
                                    "titulus_null_szazalek": "60.00000000000000"
                                }
                            ]
                        },
                        "text/html": [
                            "<table>",
                            "<tr><th>titulus_null_szam</th><th>titulus_null_szazalek</th></tr>",
                            "<tr><td>15</td><td>60.00000000000000</td></tr>",
                            "</table>"
                        ]
                    }
                }
            ],
            "execution_count": 1
        },
        {
            "cell_type": "markdown",
            "source": [
                "Kreditek elemzése"
            ],
            "metadata": {
                "azdata_cell_guid": "88f5b4bb-f4c1-4bad-a0c7-b2592687b422"
            },
            "attachments": {}
        },
        {
            "cell_type": "code",
            "source": [
                "SELECT \r\n",
                "    MIN(Kredit) AS min_kredit,\r\n",
                "    MAX(kredit) AS max_kredit,\r\n",
                "    AVG(kredit) AS atlag_kredit\r\n",
                "FROM Tantárgyak;"
            ],
            "metadata": {
                "azdata_cell_guid": "e9de5726-f036-4fb9-8c33-a873955ed886",
                "language": "sql"
            },
            "outputs": [
                {
                    "output_type": "display_data",
                    "data": {
                        "text/html": "(1 row affected)"
                    },
                    "metadata": {}
                },
                {
                    "output_type": "display_data",
                    "data": {
                        "text/html": "Total execution time: 00:00:00.047"
                    },
                    "metadata": {}
                },
                {
                    "output_type": "execute_result",
                    "metadata": {},
                    "execution_count": 2,
                    "data": {
                        "application/vnd.dataresource+json": {
                            "schema": {
                                "fields": [
                                    {
                                        "name": "min_kredit"
                                    },
                                    {
                                        "name": "max_kredit"
                                    },
                                    {
                                        "name": "atlag_kredit"
                                    }
                                ]
                            },
                            "data": [
                                {
                                    "min_kredit": "1",
                                    "max_kredit": "6",
                                    "atlag_kredit": "2"
                                }
                            ]
                        },
                        "text/html": [
                            "<table>",
                            "<tr><th>min_kredit</th><th>max_kredit</th><th>atlag_kredit</th></tr>",
                            "<tr><td>1</td><td>6</td><td>2</td></tr>",
                            "</table>"
                        ]
                    }
                }
            ],
            "execution_count": 2
        },
        {
            "cell_type": "markdown",
            "source": [
                "Tantárgy nevének az elemzése"
            ],
            "metadata": {
                "azdata_cell_guid": "9e7249de-1b59-43d8-84b1-26fa7d81fc5a"
            },
            "attachments": {}
        },
        {
            "cell_type": "code",
            "source": [
                "SELECT Tantárgynév AS string, \r\n",
                "        LEN(Tantárgynév) AS string_length\r\n",
                "FROM Tantárgyak\r\n",
                "GROUP BY Tantárgynév\r\n",
                "ORDER BY 2 DESC"
            ],
            "metadata": {
                "azdata_cell_guid": "6405d3e8-a9b1-45d7-aa76-3b1e785ef6cc",
                "language": "sql"
            },
            "outputs": [
                {
                    "output_type": "display_data",
                    "data": {
                        "text/html": "(13 rows affected)"
                    },
                    "metadata": {}
                },
                {
                    "output_type": "display_data",
                    "data": {
                        "text/html": "Total execution time: 00:00:00.046"
                    },
                    "metadata": {}
                },
                {
                    "output_type": "execute_result",
                    "metadata": {
                        "azdata_chartOptions": {
                            "type": "bar",
                            "dataDirection": "vertical",
                            "columnsAsLabels": true,
                            "labelFirstColumn": false,
                            "legendPosition": "top"
                        }
                    },
                    "execution_count": 3,
                    "data": {
                        "application/vnd.dataresource+json": {
                            "schema": {
                                "fields": [
                                    {
                                        "name": "string"
                                    },
                                    {
                                        "name": "string_length"
                                    }
                                ]
                            },
                            "data": [
                                {
                                    "string": "Az ürgeöntés hydrológiai alapjai II.",
                                    "string_length": "36"
                                },
                                {
                                    "string": "Az ürgeöntés hydrológiai alapjai I.",
                                    "string_length": "35"
                                },
                                {
                                    "string": "Fejezetek az ürgék jogaiból",
                                    "string_length": "27"
                                },
                                {
                                    "string": "Bevezetés az ürgeöntésbe",
                                    "string_length": "24"
                                },
                                {
                                    "string": "Az ürgeöntés alapjai",
                                    "string_length": "20"
                                },
                                {
                                    "string": "Ürgeöntés az EU-ban",
                                    "string_length": "19"
                                },
                                {
                                    "string": "Az ürge anatómiája",
                                    "string_length": "18"
                                },
                                {
                                    "string": "Az öntés elmélete",
                                    "string_length": "17"
                                },
                                {
                                    "string": "Öntési gyakorlat",
                                    "string_length": "16"
                                },
                                {
                                    "string": "Folyami gáttan",
                                    "string_length": "14"
                                },
                                {
                                    "string": "ü-business",
                                    "string_length": "10"
                                },
                                {
                                    "string": "ürgefőzés",
                                    "string_length": "9"
                                },
                                {
                                    "string": "Ürgevitel",
                                    "string_length": "9"
                                }
                            ]
                        },
                        "text/html": [
                            "<table>",
                            "<tr><th>string</th><th>string_length</th></tr>",
                            "<tr><td>Az ürgeöntés hydrológiai alapjai II.</td><td>36</td></tr>",
                            "<tr><td>Az ürgeöntés hydrológiai alapjai I.</td><td>35</td></tr>",
                            "<tr><td>Fejezetek az ürgék jogaiból</td><td>27</td></tr>",
                            "<tr><td>Bevezetés az ürgeöntésbe</td><td>24</td></tr>",
                            "<tr><td>Az ürgeöntés alapjai</td><td>20</td></tr>",
                            "<tr><td>Ürgeöntés az EU-ban</td><td>19</td></tr>",
                            "<tr><td>Az ürge anatómiája</td><td>18</td></tr>",
                            "<tr><td>Az öntés elmélete</td><td>17</td></tr>",
                            "<tr><td>Öntési gyakorlat</td><td>16</td></tr>",
                            "<tr><td>Folyami gáttan</td><td>14</td></tr>",
                            "<tr><td>ü-business</td><td>10</td></tr>",
                            "<tr><td>ürgefőzés</td><td>9</td></tr>",
                            "<tr><td>Ürgevitel</td><td>9</td></tr>",
                            "</table>"
                        ]
                    }
                }
            ],
            "execution_count": 3
        },
        {
            "cell_type": "code",
            "source": [
                "SELECT MIN(LEN(Tantárgynév)) AS string_length_min, \r\n",
                "       MAX(LEN(Tantárgynév)) AS string_length_max, \r\n",
                "       AVG(LEN(Tantárgynév)) AS string_length_avg, \r\n",
                "       STDEV(LEN(Tantárgynév)) AS string_length_stddev, \r\n",
                "       VAR(LEN(Tantárgynév)) AS string_length_var\r\n",
                "FROM Tantárgyak\r\n",
                "WHERE Tantárgynév IS NOT NULL\r\n",
                "AND LEN(Tantárgynév) > 0"
            ],
            "metadata": {
                "azdata_cell_guid": "02031ea2-3838-458d-839c-228e3b362b61",
                "language": "sql"
            },
            "outputs": [
                {
                    "output_type": "display_data",
                    "data": {
                        "text/html": "(1 row affected)"
                    },
                    "metadata": {}
                },
                {
                    "output_type": "display_data",
                    "data": {
                        "text/html": "Total execution time: 00:00:00.048"
                    },
                    "metadata": {}
                },
                {
                    "output_type": "execute_result",
                    "metadata": {},
                    "execution_count": 4,
                    "data": {
                        "application/vnd.dataresource+json": {
                            "schema": {
                                "fields": [
                                    {
                                        "name": "string_length_min"
                                    },
                                    {
                                        "name": "string_length_max"
                                    },
                                    {
                                        "name": "string_length_avg"
                                    },
                                    {
                                        "name": "string_length_stddev"
                                    },
                                    {
                                        "name": "string_length_var"
                                    }
                                ]
                            },
                            "data": [
                                {
                                    "string_length_min": "9",
                                    "string_length_max": "36",
                                    "string_length_avg": "19",
                                    "string_length_stddev": "8.903326949474044",
                                    "string_length_var": "79.26923076923079"
                                }
                            ]
                        },
                        "text/html": [
                            "<table>",
                            "<tr><th>string_length_min</th><th>string_length_max</th><th>string_length_avg</th><th>string_length_stddev</th><th>string_length_var</th></tr>",
                            "<tr><td>9</td><td>36</td><td>19</td><td>8.903326949474044</td><td>79.26923076923079</td></tr>",
                            "</table>"
                        ]
                    }
                }
            ],
            "execution_count": 4
        }
    ]
}